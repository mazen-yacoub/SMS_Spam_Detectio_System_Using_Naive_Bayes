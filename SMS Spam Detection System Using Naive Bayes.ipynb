{
 "cells": [
  {
   "cell_type": "markdown",
   "metadata": {},
   "source": [
    "## Project Objective\n",
    "\n",
    "Spam detection is a key application of Machine Learning, widely used by email service providers to automatically classify unwanted emails as 'Junk Mail'. \n",
    "\n",
    "In this project, we'll use the **Naive Bayes algorithm** to build a model that can classify SMS messages as spam or not spam using the [SMS Spam Collection dataset](https://archive.ics.uci.edu/ml/datasets/SMS+Spam+Collection). Spam messages often contain words like 'free', 'win', 'cash', 'prize', and use capital letters and exclamation marks to grab attention. Our goal is to train a model that can recognize these patterns and accurately identify spam.\n",
    "\n",
    "In short, the Bayes theorem calculates the probability of a certain event happening(in our case, a message being  spam) based on the joint probabilistic distributions of certain other events(in our case, the appearance of certain words in a message).\n",
    "\n",
    "This task is a **binary classification problem**, where each message is categorized as either 'Spam' or 'Not Spam'. Since we have a labeled dataset, it falls under **supervised learning**, as the model will learn from labeled examples to make future predictions.\n"
   ]
  },
  {
   "cell_type": "markdown",
   "metadata": {},
   "source": [
    "### Understanding our dataset ### \n",
    "\n",
    "\n",
    "We will be using a [dataset](https://archive.ics.uci.edu/ml/datasets/SMS+Spam+Collection) from the UCI Machine Learning repository which has a very good collection of datasets for experimental research purposes. \n",
    "\n",
    "\n",
    " ** Here's a preview of the data: ** \n",
    "\n",
    "- this is image from the dataset :\n",
    "<img src=\"images/dqnb.png\" height=\"1242\" width=\"1242\">\n",
    "\n",
    "The columns in the data set are currently not named and as you can see, there are 2 columns. \n",
    "\n",
    "The first column takes two values, 'ham' which signifies that the message is not spam, and 'spam' which signifies that the message is spam. \n",
    "\n",
    "The second column is the text content of the SMS message that is being classified."
   ]
  },
  {
   "cell_type": "markdown",
   "metadata": {
    "collapsed": true
   },
   "source": [
    "## importing data\n",
    "* Import the dataset into a pandas dataframe using the read_table method. Because this is a tab separated dataset we will be using '\\t' as the value for the 'sep' argument which specifies this format. \n",
    "* Also, rename the column names by specifying a list ['label, 'sms_message'] to the 'names' argument of read_table()."
   ]
  },
  {
   "cell_type": "code",
   "execution_count": 1,
   "metadata": {},
   "outputs": [
    {
     "data": {
      "text/html": [
       "<div>\n",
       "<style scoped>\n",
       "    .dataframe tbody tr th:only-of-type {\n",
       "        vertical-align: middle;\n",
       "    }\n",
       "\n",
       "    .dataframe tbody tr th {\n",
       "        vertical-align: top;\n",
       "    }\n",
       "\n",
       "    .dataframe thead th {\n",
       "        text-align: right;\n",
       "    }\n",
       "</style>\n",
       "<table border=\"1\" class=\"dataframe\">\n",
       "  <thead>\n",
       "    <tr style=\"text-align: right;\">\n",
       "      <th></th>\n",
       "      <th>label</th>\n",
       "      <th>sms_message</th>\n",
       "    </tr>\n",
       "  </thead>\n",
       "  <tbody>\n",
       "    <tr>\n",
       "      <th>0</th>\n",
       "      <td>ham</td>\n",
       "      <td>Go until jurong point, crazy.. Available only ...</td>\n",
       "    </tr>\n",
       "    <tr>\n",
       "      <th>1</th>\n",
       "      <td>ham</td>\n",
       "      <td>Ok lar... Joking wif u oni...</td>\n",
       "    </tr>\n",
       "    <tr>\n",
       "      <th>2</th>\n",
       "      <td>spam</td>\n",
       "      <td>Free entry in 2 a wkly comp to win FA Cup fina...</td>\n",
       "    </tr>\n",
       "    <tr>\n",
       "      <th>3</th>\n",
       "      <td>ham</td>\n",
       "      <td>U dun say so early hor... U c already then say...</td>\n",
       "    </tr>\n",
       "    <tr>\n",
       "      <th>4</th>\n",
       "      <td>ham</td>\n",
       "      <td>Nah I don't think he goes to usf, he lives aro...</td>\n",
       "    </tr>\n",
       "  </tbody>\n",
       "</table>\n",
       "</div>"
      ],
      "text/plain": [
       "  label                                        sms_message\n",
       "0   ham  Go until jurong point, crazy.. Available only ...\n",
       "1   ham                      Ok lar... Joking wif u oni...\n",
       "2  spam  Free entry in 2 a wkly comp to win FA Cup fina...\n",
       "3   ham  U dun say so early hor... U c already then say...\n",
       "4   ham  Nah I don't think he goes to usf, he lives aro..."
      ]
     },
     "execution_count": 1,
     "metadata": {},
     "output_type": "execute_result"
    }
   ],
   "source": [
    "import pandas as pd\n",
    "\n",
    "df = pd.read_csv('SMSSpamCollection',\n",
    "                   sep='\\t', \n",
    "                   header=None,  # ensures that pandas reads the data without treating any row as a header.\n",
    "                   names=['label', 'sms_message'] # name the columns\n",
    "                )\n",
    "\n",
    "# printing first 5 rows\n",
    "df.head()"
   ]
  },
  {
   "cell_type": "markdown",
   "metadata": {},
   "source": [
    "### Data Preprocessing \n",
    "\n",
    "Now that we have a basic understanding of our dataset, let's convert the labels to binary values. We'll use 0 to represent 'ham' (not spam) and 1 to represent 'spam' to make computation easier.\n",
    "\n",
    "Why is this step necessary? Scikit-learn requires numerical inputs for its models. If we leave the labels as strings, scikit-learn will internally convert them to unknown float values. Although the model would still work with string labels, we might face issues later when calculating performance metrics like precision and recall.\n",
    "\n",
    "To avoid complications, it's good practice to convert categorical values into integers before feeding them into the model.\n"
   ]
  },
  {
   "cell_type": "code",
   "execution_count": 2,
   "metadata": {},
   "outputs": [],
   "source": [
    "# mapping \"ham\" to 0 and \"spam\" to 1\n",
    "df['label'] = df[\"label\"].map({'ham':0, 'spam':1})"
   ]
  },
  {
   "cell_type": "code",
   "execution_count": 3,
   "metadata": {},
   "outputs": [
    {
     "name": "stdout",
     "output_type": "stream",
     "text": [
      "(5572, 2)\n"
     ]
    },
    {
     "data": {
      "text/html": [
       "<div>\n",
       "<style scoped>\n",
       "    .dataframe tbody tr th:only-of-type {\n",
       "        vertical-align: middle;\n",
       "    }\n",
       "\n",
       "    .dataframe tbody tr th {\n",
       "        vertical-align: top;\n",
       "    }\n",
       "\n",
       "    .dataframe thead th {\n",
       "        text-align: right;\n",
       "    }\n",
       "</style>\n",
       "<table border=\"1\" class=\"dataframe\">\n",
       "  <thead>\n",
       "    <tr style=\"text-align: right;\">\n",
       "      <th></th>\n",
       "      <th>label</th>\n",
       "      <th>sms_message</th>\n",
       "    </tr>\n",
       "  </thead>\n",
       "  <tbody>\n",
       "    <tr>\n",
       "      <th>0</th>\n",
       "      <td>0</td>\n",
       "      <td>Go until jurong point, crazy.. Available only ...</td>\n",
       "    </tr>\n",
       "    <tr>\n",
       "      <th>1</th>\n",
       "      <td>0</td>\n",
       "      <td>Ok lar... Joking wif u oni...</td>\n",
       "    </tr>\n",
       "    <tr>\n",
       "      <th>2</th>\n",
       "      <td>1</td>\n",
       "      <td>Free entry in 2 a wkly comp to win FA Cup fina...</td>\n",
       "    </tr>\n",
       "    <tr>\n",
       "      <th>3</th>\n",
       "      <td>0</td>\n",
       "      <td>U dun say so early hor... U c already then say...</td>\n",
       "    </tr>\n",
       "    <tr>\n",
       "      <th>4</th>\n",
       "      <td>0</td>\n",
       "      <td>Nah I don't think he goes to usf, he lives aro...</td>\n",
       "    </tr>\n",
       "  </tbody>\n",
       "</table>\n",
       "</div>"
      ],
      "text/plain": [
       "   label                                        sms_message\n",
       "0      0  Go until jurong point, crazy.. Available only ...\n",
       "1      0                      Ok lar... Joking wif u oni...\n",
       "2      1  Free entry in 2 a wkly comp to win FA Cup fina...\n",
       "3      0  U dun say so early hor... U c already then say...\n",
       "4      0  Nah I don't think he goes to usf, he lives aro..."
      ]
     },
     "execution_count": 3,
     "metadata": {},
     "output_type": "execute_result"
    }
   ],
   "source": [
    "# returns (rows, columns)\n",
    "print(df.shape)\n",
    "df.head() "
   ]
  },
  {
   "cell_type": "code",
   "execution_count": 4,
   "metadata": {},
   "outputs": [
    {
     "data": {
      "text/plain": [
       "13.406317300789663"
      ]
     },
     "execution_count": 4,
     "metadata": {},
     "output_type": "execute_result"
    }
   ],
   "source": [
    "spam_percentage = (df[df[\"label\"] == 1].shape[0] / df.shape[0]) * 100\n",
    "spam_percentage"
   ]
  },
  {
   "cell_type": "code",
   "execution_count": 5,
   "metadata": {},
   "outputs": [
    {
     "data": {
      "text/plain": [
       "86.59368269921033"
      ]
     },
     "execution_count": 5,
     "metadata": {},
     "output_type": "execute_result"
    }
   ],
   "source": [
    "ham_percentage = (df[df[\"label\"] == 0].shape[0] / df.shape[0]) * 100\n",
    "ham_percentage"
   ]
  },
  {
   "cell_type": "markdown",
   "metadata": {},
   "source": [
    "### In this case, where the dataset consists of 87% ham (not spam) and 13% spam, it's important to focus on metrics beyond just accuracy, such as precision, recall, and the F1 score (we will discuss it later in model testing)"
   ]
  },
  {
   "cell_type": "code",
   "execution_count": 6,
   "metadata": {},
   "outputs": [
    {
     "data": {
      "image/png": "[encoded data removed]",
      "text/plain": [
       "<Figure size 640x480 with 1 Axes>"
      ]
     },
     "metadata": {},
     "output_type": "display_data"
    }
   ],
   "source": [
    "import seaborn as sns\n",
    "import matplotlib.pyplot as plt\n",
    "import pandas as pd\n",
    "\n",
    "# Counting the occurrences of each label\n",
    "count_data = df['label'].value_counts().reset_index()\n",
    "count_data.columns = ['label', 'count']\n",
    "\n",
    "# Creating the bar chart\n",
    "sns.barplot(x='label', y='count', data=count_data)\n",
    "\n",
    "# Adding title and labels\n",
    "plt.title('Count of Ham and Spam Messages')\n",
    "plt.xlabel('Message Type')\n",
    "plt.ylabel('Count')\n",
    "\n",
    "# Display the plot\n",
    "plt.show()\n"
   ]
  },
  {
   "cell_type": "code",
   "execution_count": 7,
   "metadata": {},
   "outputs": [
    {
     "name": "stdout",
     "output_type": "stream",
     "text": [
      "<class 'pandas.core.frame.DataFrame'>\n",
      "RangeIndex: 5572 entries, 0 to 5571\n",
      "Data columns (total 2 columns):\n",
      " #   Column       Non-Null Count  Dtype \n",
      "---  ------       --------------  ----- \n",
      " 0   label        5572 non-null   int64 \n",
      " 1   sms_message  5572 non-null   object\n",
      "dtypes: int64(1), object(1)\n",
      "memory usage: 87.2+ KB\n"
     ]
    }
   ],
   "source": [
    "df.info() # num of non-null rows in 2 columns eqaull to num of rows (data is clean there is no nulls)"
   ]
  },
  {
   "cell_type": "markdown",
   "metadata": {},
   "source": [
    "### Bag of Words (BoW)\n",
    "\n",
    "Why we will use it ? , becuase Machine learning algorithms require numerical data, but text-heavy data (like SMS or emails) need to be converted into numbers for processing.\n",
    "\n",
    "Bag of Words Concept:\n",
    "   - BoW is a technique that converts text data into numerical form by counting word frequencies in a text.\n",
    "   - The order of the words is ignored, and each word is treated individually.\n",
    "   - Converts a collection of documents into a matrix where each row is a document, and each column represents a word (token).        The values in the matrix indicate word frequency.\n",
    "\n",
    "these preprocessing steps are applied by default in CountVectorizer() when fitting the model\n",
    "\n",
    "### To handle this\n",
    "we will be using sklearn's CountVectorizer method which does the following:\n",
    "- Tokenization: Splits text into individual words and assigns each word an integer ID.\n",
    "- Word Count: Counts how often each token appea\n",
    "\n",
    "### you should consider Key Parameters in CountVectorizer:\n",
    "- Lowercasing: Converts all words to lowercase automatically (default lowercase=True), so that 'He' and 'he' are treated the same.\n",
    "- Punctuation: Ignores punctuation (controlled by token_pattern parameter).\n",
    "- Stop Words: Removes common words like 'the', 'and', etc., using the stop_words='english' parameter, as stop words can skew results."
   ]
  },
  {
   "cell_type": "markdown",
   "metadata": {},
   "source": [
    "### Implementing Bag of Words in scikit-learn ###\n",
    "\n",
    "as we had a solid understanding of what is happening behind the scenes in the `sklearn.feature_extraction.text.CountVectorizer` method of scikit-learn. \n",
    "\n",
    "We will now implement `sklearn.feature_extraction.text.CountVectorizer` method in the next step."
   ]
  },
  {
   "cell_type": "code",
   "execution_count": 8,
   "metadata": {},
   "outputs": [],
   "source": [
    "# Import the sklearn.feature_extraction.text.CountVectorizer method and create an instance of it called 'count_vector'. \n",
    "from sklearn.feature_extraction.text import CountVectorizer\n",
    "count_vector = CountVectorizer()"
   ]
  },
  {
   "cell_type": "markdown",
   "metadata": {},
   "source": [
    "### Training and testing sets ###\n"
   ]
  },
  {
   "cell_type": "code",
   "execution_count": 9,
   "metadata": {},
   "outputs": [
    {
     "name": "stdout",
     "output_type": "stream",
     "text": [
      "Number of rows in the total set: 5572\n",
      "Number of rows in the training set: 4179\n",
      "Number of rows in the test set: 1393\n"
     ]
    }
   ],
   "source": [
    "# split into training and testing sets\n",
    "from sklearn.model_selection import train_test_split\n",
    "\n",
    "X_train, X_test, y_train, y_test = train_test_split(df['sms_message'], \n",
    "                                                    df['label'], \n",
    "                                                    random_state=1)\n",
    "\n",
    "print('Number of rows in the total set: {}'.format(df.shape[0]))\n",
    "print('Number of rows in the training set: {}'.format(X_train.shape[0]))\n",
    "print('Number of rows in the test set: {}'.format(X_test.shape[0]))"
   ]
  },
  {
   "cell_type": "markdown",
   "metadata": {},
   "source": [
    "### Applying Bag of Words processing to our dataset. ###\n",
    "\n",
    "Now that we have split the data, our next objective is: Bag of words and convert our data into the desired matrix format. To do this we will be using CountVectorizer() as we did before. There are two  steps to consider here:\n",
    "\n",
    "* Firstly, we have to fit our training data (`X_train`) into `CountVectorizer()` and return the matrix.\n",
    "* Secondly, we have to transform our testing data (`X_test`) to return the matrix. \n",
    "\n",
    "Note that `X_train` is our training data for the 'sms_message' column in our dataset and we will be using this to train our model. \n",
    "\n",
    "`X_test` is our testing data for the 'sms_message' column and this is the data we will be using(after transformation to a matrix) to make predictions on. We will then compare those predictions with `y_test` in a later step. "
   ]
  },
  {
   "cell_type": "code",
   "execution_count": 10,
   "metadata": {},
   "outputs": [],
   "source": [
    "# Fit the training data and then return the matrix\n",
    "training_data = count_vector.fit_transform(X_train).toarray()\n",
    "\n",
    "# Transform testing data and return the matrix.\n",
    "testing_data = count_vector.transform(X_test).toarray()"
   ]
  },
  {
   "cell_type": "markdown",
   "metadata": {},
   "source": [
    "### Step 5: Naive Bayes Implementation Using Scikit-Learn ###\n",
    "\n",
    "We will implement the Naive Bayes algorithm using scikit-learn's built-in Naive Bayes methods. For this task, we'll use the `MultinomialNB` class from `sklearn.naive_bayes`, which is particularly suited for classification with discrete features like word counts in text data.\n",
    "\n",
    "While there are other implementations, such as `GaussianNB` for continuous data that follows a normal distribution, `MultinomialNB` works best when dealing with integer"
   ]
  },
  {
   "cell_type": "code",
   "execution_count": 11,
   "metadata": {},
   "outputs": [
    {
     "data": {
      "text/plain": [
       "(4179, 7456)"
      ]
     },
     "execution_count": 11,
     "metadata": {},
     "output_type": "execute_result"
    }
   ],
   "source": [
    "'''\n",
    "We have loaded the training data into the variable 'training_data' and the testing data into the \n",
    "variable 'testing_data'.\n",
    "\n",
    "Import the MultinomialNB classifier and fit the training data into the classifier using fit(). Name the classifier\n",
    "'naive_bayes'. we will be training the classifier using 'training_data' and y_train' from our split earlier. \n",
    "\n",
    "'''\n",
    "\n",
    "from sklearn.naive_bayes import MultinomialNB\n",
    "naive_bayes = MultinomialNB()\n",
    "naive_bayes.fit(training_data, y_train)\n",
    "training_data.shape"
   ]
  },
  {
   "cell_type": "code",
   "execution_count": 12,
   "metadata": {},
   "outputs": [],
   "source": [
    "'''\n",
    "Now that our algorithm has been trained using the training data set we can now make some predictions on the test data\n",
    "stored in 'testing_data' using predict(). Save your predictions into the 'predictions' variable.\n",
    "'''\n",
    "predictions = naive_bayes.predict(testing_data)"
   ]
  },
  {
   "cell_type": "markdown",
   "metadata": {},
   "source": [
    "### Step 6: Evaluating Our Model ###\n",
    "\n",
    "Having made predictions on our test set, the next step is to evaluate the performance of our model. Several metrics can be utilized for this purpose:\n",
    "\n",
    "- **Accuracy**: This metric indicates the proportion of correct predictions made by the classifier. It is calculated as the ratio of correct predictions to the total number of predictions, expressed as:\n",
    "\n",
    "\n",
    "- **Precision**: This metric measures the accuracy of the positive predictions. It represents the ratio of true positives (messages correctly classified as spam) to all predicted positives (messages classified as spam), formulated as:\n",
    "\n",
    "\n",
    "- **Recall (Sensitivity)**: This metric assesses the ability of the classifier to identify actual spam messages. It is defined as the ratio of true positives to the total number of actual spam messages, expressed as:\n",
    "\n",
    "In scenarios where the classification distribution is imbalanced, such as our case where spam messages are rare, accuracy alone may not be a reliable indicator of model performance. For instance, if out of 100 messages, only 2 are spam, a model could achieve a high accuracy score by primarily predicting non-spam. \n",
    "\n",
    "Thus, precision and recall become critical metrics. These two can be combined to calculate the **F1 Score**, which is the weighted harmonic mean of precision and recall,\n"
   ]
  },
  {
   "cell_type": "code",
   "execution_count": 13,
   "metadata": {},
   "outputs": [
    {
     "name": "stdout",
     "output_type": "stream",
     "text": [
      "Accuracy score:  0.9885139985642498\n",
      "Precision score:  0.9720670391061452\n",
      "Recall score:  0.9405405405405406\n",
      "F1 score:  0.9560439560439562\n"
     ]
    }
   ],
   "source": [
    "'''\n",
    "We will be using all 4 metrics to make sure our model does well. For all 4 metrics whose values can range from 0 to 1, \n",
    "having a score as close to 1 as possible is a good indicator of how well our model is doing.\n",
    "'''\n",
    "from sklearn.metrics import accuracy_score, precision_score, recall_score, f1_score\n",
    "print('Accuracy score: ', format(accuracy_score(y_test, predictions)))\n",
    "\n",
    "print('Precision score: ', format(precision_score(y_test, predictions))) # how many already spam from that you siad they spam\n",
    "print('Recall score: ', format(recall_score(y_test, predictions))) # how many you decide it spam from the whole num of the spam\n",
    "print('F1 score: ', format(f1_score(y_test, predictions))) #combination of recall and percision"
   ]
  },
  {
   "cell_type": "markdown",
   "metadata": {
    "collapsed": true
   },
   "source": [
    "### function to predict"
   ]
  },
  {
   "cell_type": "code",
   "execution_count": 14,
   "metadata": {},
   "outputs": [],
   "source": [
    "# function to predict whether a given string is spam or ham based on your trained model\n",
    "\n",
    "def predict_spam_or_ham(message):\n",
    "    \"\"\"\n",
    "    Predicts whether a given SMS message is spam or ham.\n",
    "\n",
    "    Parameters:\n",
    "    message (str): The SMS message to be classified.\n",
    "\n",
    "    Returns:\n",
    "    int: 1 if the message is spam, 0 if it is ham.\n",
    "    \"\"\"\n",
    "    # Preprocess the message: Transform the message into a format suitable for prediction\n",
    "    transformed_message = count_vector.transform([message])\n",
    "    # Predict using the trained Naive Bayes model\n",
    "    prediction = naive_bayes.predict(transformed_message)\n",
    "    return prediction[0]  # Return the prediction (0 or 1)\n"
   ]
  },
  {
   "cell_type": "markdown",
   "metadata": {},
   "source": [
    "### Example usage"
   ]
  },
  {
   "cell_type": "code",
   "execution_count": 15,
   "metadata": {},
   "outputs": [
    {
     "name": "stdout",
     "output_type": "stream",
     "text": [
      "Message: \"Hello, I am Sherif. My team won the World Cup!\" - Prediction: Ham\n",
      "Message: \"You have won a £100,000 Prize!\" - Prediction: Spam\n"
     ]
    }
   ],
   "source": [
    "test_message_1 = \"Hello, I am Sherif. My team won the World Cup!\"  # ham\n",
    "test_message_2 = \"You have won a £100,000 Prize!\"  # spam\n",
    "\n",
    "print(f'Message: \"{test_message_1}\" - Prediction: {\"Spam\" if predict_spam_or_ham(test_message_1) == 1 else \"Ham\"}')\n",
    "print(f'Message: \"{test_message_2}\" - Prediction: {\"Spam\" if predict_spam_or_ham(test_message_2) == 1 else \"Ham\"}')"
   ]
  }
 ],
 "metadata": {
  "kernelspec": {
   "display_name": "Python 3 (ipykernel)",
   "language": "python",
   "name": "python3"
  },
  "language_info": {
   "codemirror_mode": {
    "name": "ipython",
    "version": 3
   },
   "file_extension": ".py",
   "mimetype": "text/x-python",
   "name": "python",
   "nbconvert_exporter": "python",
   "pygments_lexer": "ipython3",
   "version": "3.11.5"
  }
 },
 "nbformat": 4,
 "nbformat_minor": 1
}
